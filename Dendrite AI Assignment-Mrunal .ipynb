{
 "cells": [
  {
   "cell_type": "code",
   "execution_count": 15,
   "id": "02a13df9",
   "metadata": {},
   "outputs": [],
   "source": [
    "\n",
    "import json\n",
    "import pandas as pd\n",
    "from sklearn.model_selection import train_test_split\n",
    "from sklearn.preprocessing import StandardScaler\n",
    "from sklearn.feature_selection import SelectFromModel\n",
    "from sklearn.ensemble import RandomForestRegressor\n",
    "from sklearn.linear_model import LinearRegression\n",
    "from sklearn.model_selection import GridSearchCV\n",
    "from sklearn.metrics import mean_squared_error, r2_score\n"
   ]
  },
  {
   "cell_type": "code",
   "execution_count": 16,
   "id": "77da8d6d",
   "metadata": {},
   "outputs": [],
   "source": [
    "def parse_json(json_file):\n",
    "    with open(json_file, 'r') as f:\n",
    "        json_data = json.load(f)\n",
    "        # Extract relevant information from JSON\n",
    "        dataset_name = json_data['dataset_name']\n",
    "        target_variable = json_data['target_variable']\n",
    "        prediction_type = json_data['prediction_type']\n",
    "        feature_handling = json_data['feature_handling']\n",
    "        feature_reduction_method = json_data['feature_reduction_method']\n",
    "        selected_algorithms = json_data['selected_algorithms']\n",
    "        hyperparameters = json_data['hyperparameters']\n",
    "        return dataset_name, target_variable, prediction_type, feature_handling, feature_reduction_method, selected_algorithms, hyperparameters\n",
    "\n",
    "    \n",
    "def load_and_preprocess_data(csv_file):\n",
    "     # Load dataset\n",
    "     data = pd.read_csv(csv_file)\n",
    "     # Handle missing values if any\n",
    "     data.dropna(inplace=True)\n",
    "     # Encode categorical variables if any\n",
    "     # Split data into features and target variable\n",
    "     X = data.drop(columns=[target_variable])\n",
    "     y = data[target_variable]\n",
    "     # Split data into train and test sets\n",
    "     X_train, X_test, y_train, y_test = train_test_split(X, y, test_size=0.2)\n",
    "     # Perform feature scaling\n",
    "     scaler = StandardScaler()\n",
    "     X_train_scaled = scaler.fit_transform(X_train)\n",
    "     X_test_scaled = scaler.transform(X_test)\n",
    "     return X_train_scaled, X_test_scaled, y_train, y_test\n"
   ]
  },
  {
   "cell_type": "code",
   "execution_count": 17,
   "id": "4ecb6aac",
   "metadata": {},
   "outputs": [],
   "source": [
    "def feature_reduction(X_train, X_test, y_train, feature_reduction_method):\n",
    "    if feature_reduction_method == 'tree_based':\n",
    "        # Use RandomForestRegressor for feature selection\n",
    "        selector = SelectFromModel(RandomForestRegressor())\n",
    "        X_train_selected = selector.fit_transform(X_train, y_train)\n",
    "        X_test_selected = selector.transform(X_test)\n",
    "        return X_train_selected, X_test_selected\n",
    "    else:\n",
    "            \n",
    "        return X_train, X_test # No feature reduction"
   ]
  },
  {
   "cell_type": "code",
   "execution_count": null,
   "id": "e703921c",
   "metadata": {},
   "outputs": [],
   "source": []
  }
 ],
 "metadata": {
  "kernelspec": {
   "display_name": "Python 3 (ipykernel)",
   "language": "python",
   "name": "python3"
  },
  "language_info": {
   "codemirror_mode": {
    "name": "ipython",
    "version": 3
   },
   "file_extension": ".py",
   "mimetype": "text/x-python",
   "name": "python",
   "nbconvert_exporter": "python",
   "pygments_lexer": "ipython3",
   "version": "3.11.5"
  }
 },
 "nbformat": 4,
 "nbformat_minor": 5
}
